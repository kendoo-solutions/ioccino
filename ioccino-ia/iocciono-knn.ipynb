{
 "cells": [
  {
   "cell_type": "code",
   "execution_count": 9,
   "metadata": {},
   "outputs": [],
   "source": [
    "import pandas as pd\n",
    "import sagemaker\n",
    "from sagemaker.amazon.knn import KNN\n",
    "\n",
    "role = sagemaker.get_execution_role()"
   ]
  },
  {
   "cell_type": "code",
   "execution_count": 10,
   "metadata": {},
   "outputs": [],
   "source": [
    "BUCKET = 'ioccino-data'\n",
    "FILENAME = 'mturk-coffee-flavors-2019-06-16_22:01:18.780587.csv'"
   ]
  },
  {
   "cell_type": "code",
   "execution_count": 11,
   "metadata": {},
   "outputs": [],
   "source": [
    "df = pd.read_csv('s3://' + BUCKET + '/train_data/' + FILENAME)\n",
    "del df['Unnamed: 0']"
   ]
  },
  {
   "cell_type": "code",
   "execution_count": 12,
   "metadata": {},
   "outputs": [
    {
     "data": {
      "text/html": [
       "<div>\n",
       "<style scoped>\n",
       "    .dataframe tbody tr th:only-of-type {\n",
       "        vertical-align: middle;\n",
       "    }\n",
       "\n",
       "    .dataframe tbody tr th {\n",
       "        vertical-align: top;\n",
       "    }\n",
       "\n",
       "    .dataframe thead th {\n",
       "        text-align: right;\n",
       "    }\n",
       "</style>\n",
       "<table border=\"1\" class=\"dataframe\">\n",
       "  <thead>\n",
       "    <tr style=\"text-align: right;\">\n",
       "      <th></th>\n",
       "      <th>Answer.age</th>\n",
       "      <th>Gender</th>\n",
       "      <th>Mood</th>\n",
       "      <th>Temperature</th>\n",
       "      <th>Target</th>\n",
       "    </tr>\n",
       "  </thead>\n",
       "  <tbody>\n",
       "    <tr>\n",
       "      <th>0</th>\n",
       "      <td>0.067406</td>\n",
       "      <td>0.0</td>\n",
       "      <td>0.000000</td>\n",
       "      <td>0.028396</td>\n",
       "      <td>1</td>\n",
       "    </tr>\n",
       "    <tr>\n",
       "      <th>1</th>\n",
       "      <td>0.035767</td>\n",
       "      <td>0.0</td>\n",
       "      <td>0.000000</td>\n",
       "      <td>0.028396</td>\n",
       "      <td>1</td>\n",
       "    </tr>\n",
       "    <tr>\n",
       "      <th>2</th>\n",
       "      <td>0.023386</td>\n",
       "      <td>0.0</td>\n",
       "      <td>0.064897</td>\n",
       "      <td>0.018930</td>\n",
       "      <td>2</td>\n",
       "    </tr>\n",
       "  </tbody>\n",
       "</table>\n",
       "</div>"
      ],
      "text/plain": [
       "   Answer.age  Gender      Mood  Temperature  Target\n",
       "0    0.067406     0.0  0.000000     0.028396       1\n",
       "1    0.035767     0.0  0.000000     0.028396       1\n",
       "2    0.023386     0.0  0.064897     0.018930       2"
      ]
     },
     "execution_count": 12,
     "metadata": {},
     "output_type": "execute_result"
    }
   ],
   "source": [
    "df.head(3)"
   ]
  },
  {
   "cell_type": "code",
   "execution_count": 13,
   "metadata": {},
   "outputs": [],
   "source": [
    "df_target = df['Target'].copy()\n",
    "del df['Target']"
   ]
  },
  {
   "cell_type": "code",
   "execution_count": 14,
   "metadata": {},
   "outputs": [],
   "source": [
    "output_path = 's3://ioccino-train/output/output'\n",
    "#s3_train_data = 's3://{}/train/{}'.format(BUCKET, 'knn')"
   ]
  },
  {
   "cell_type": "code",
   "execution_count": 15,
   "metadata": {},
   "outputs": [],
   "source": [
    "# set up the training job\n",
    "knn_estimator = KNN(role=role,\n",
    "                    k=49,\n",
    "                    sample_size=10000,\n",
    "                    predictor_type='classifier',\n",
    "                    index_type='faiss.Flat',\n",
    "                    index_metric='INNER_PRODUCT',\n",
    "                    train_instance_count=1,\n",
    "                    train_instance_type='ml.m5.2xlarge',\n",
    "                    output_path=output_path)"
   ]
  },
  {
   "cell_type": "code",
   "execution_count": 16,
   "metadata": {},
   "outputs": [
    {
     "name": "stdout",
     "output_type": "stream",
     "text": [
      "2019-06-16 22:38:45 Starting - Starting the training job...\n",
      "2019-06-16 22:38:47 Starting - Launching requested ML instances......\n",
      "2019-06-16 22:39:53 Starting - Preparing the instances for training...\n",
      "2019-06-16 22:40:39 Downloading - Downloading input data...\n",
      "2019-06-16 22:41:04 Training - Downloading the training image.\n",
      "\u001b[31mDocker entrypoint called with argument(s): train\u001b[0m\n",
      "\u001b[31m[06/16/2019 22:41:20 INFO 139887857596224] Reading default configuration from /opt/amazon/lib/python2.7/site-packages/algorithm/resources/default-conf.json: {u'index_metric': u'L2', u'_tuning_objective_metric': u'', u'_num_gpus': u'auto', u'_log_level': u'info', u'faiss_index_ivf_nlists': u'auto', u'epochs': u'1', u'index_type': u'faiss.Flat', u'_faiss_index_nprobe': u'5', u'_kvstore': u'dist_async', u'_num_kv_servers': u'1', u'mini_batch_size': u'5000'}\u001b[0m\n",
      "\u001b[31m[06/16/2019 22:41:20 INFO 139887857596224] Reading provided configuration from /opt/ml/input/config/hyperparameters.json: {u'index_metric': u'INNER_PRODUCT', u'predictor_type': u'classifier', u'index_type': u'faiss.Flat', u'k': u'49', u'sample_size': u'10000', u'feature_dim': u'4'}\u001b[0m\n",
      "\u001b[31m[06/16/2019 22:41:20 INFO 139887857596224] Final configuration: {u'index_metric': u'INNER_PRODUCT', u'predictor_type': u'classifier', u'_tuning_objective_metric': u'', u'_num_gpus': u'auto', u'_log_level': u'info', u'feature_dim': u'4', u'faiss_index_ivf_nlists': u'auto', u'sample_size': u'10000', u'epochs': u'1', u'index_type': u'faiss.Flat', u'_faiss_index_nprobe': u'5', u'_kvstore': u'dist_async', u'_num_kv_servers': u'1', u'mini_batch_size': u'5000', u'k': u'49'}\u001b[0m\n",
      "\u001b[31m[06/16/2019 22:41:20 WARNING 139887857596224] Loggers have already been setup.\u001b[0m\n",
      "\u001b[31m[06/16/2019 22:41:20 INFO 139887857596224] Launching parameter server for role scheduler\u001b[0m\n",
      "\u001b[31m[06/16/2019 22:41:20 INFO 139887857596224] {'ECS_CONTAINER_METADATA_URI': 'http://169.254.170.2/v3/33cda801-636c-4a37-b570-8c3666166c72', 'PROTOCOL_BUFFERS_PYTHON_IMPLEMENTATION_VERSION': '2', 'PATH': '/opt/amazon/bin:/usr/local/nvidia/bin:/usr/local/sbin:/usr/local/bin:/usr/sbin:/usr/bin:/sbin:/bin:/opt/amazon/bin:/opt/amazon/bin', 'SAGEMAKER_HTTP_PORT': '8080', 'HOME': '/root', 'PYTHONUNBUFFERED': 'TRUE', 'CANONICAL_ENVROOT': '/opt/amazon', 'LD_LIBRARY_PATH': '/usr/local/nvidia/lib64:/opt/amazon/lib', 'LANG': 'en_US.utf8', 'DMLC_INTERFACE': 'ethwe', 'SHLVL': '1', 'AWS_REGION': 'us-east-1', 'NVIDIA_VISIBLE_DEVICES': 'void', 'TRAINING_JOB_NAME': 'knn-2019-06-16-22-38-45-820', 'PROTOCOL_BUFFERS_PYTHON_IMPLEMENTATION': 'cpp', 'ENVROOT': '/opt/amazon', 'SAGEMAKER_DATA_PATH': '/opt/ml', 'NVIDIA_DRIVER_CAPABILITIES': 'compute,utility', 'NVIDIA_REQUIRE_CUDA': 'cuda>=9.0', 'OMP_NUM_THREADS': '4', 'HOSTNAME': 'aws', 'AWS_CONTAINER_CREDENTIALS_RELATIVE_URI': '/v2/credentials/98c400a0-3f0a-4c39-8a31-7523cc53338d', 'PWD': '/', 'AWS_EXECUTION_ENV': 'AWS_ECS_EC2'}\u001b[0m\n",
      "\u001b[31m[06/16/2019 22:41:20 INFO 139887857596224] envs={'ECS_CONTAINER_METADATA_URI': 'http://169.254.170.2/v3/33cda801-636c-4a37-b570-8c3666166c72', 'PROTOCOL_BUFFERS_PYTHON_IMPLEMENTATION_VERSION': '2', 'DMLC_NUM_WORKER': '1', 'DMLC_PS_ROOT_PORT': '9000', 'PATH': '/opt/amazon/bin:/usr/local/nvidia/bin:/usr/local/sbin:/usr/local/bin:/usr/sbin:/usr/bin:/sbin:/bin:/opt/amazon/bin:/opt/amazon/bin', 'SAGEMAKER_HTTP_PORT': '8080', 'HOME': '/root', 'PYTHONUNBUFFERED': 'TRUE', 'CANONICAL_ENVROOT': '/opt/amazon', 'LD_LIBRARY_PATH': '/usr/local/nvidia/lib64:/opt/amazon/lib', 'LANG': 'en_US.utf8', 'DMLC_INTERFACE': 'ethwe', 'SHLVL': '1', 'DMLC_PS_ROOT_URI': '10.32.0.4', 'AWS_REGION': 'us-east-1', 'NVIDIA_VISIBLE_DEVICES': 'void', 'TRAINING_JOB_NAME': 'knn-2019-06-16-22-38-45-820', 'PROTOCOL_BUFFERS_PYTHON_IMPLEMENTATION': 'cpp', 'ENVROOT': '/opt/amazon', 'SAGEMAKER_DATA_PATH': '/opt/ml', 'NVIDIA_DRIVER_CAPABILITIES': 'compute,utility', 'NVIDIA_REQUIRE_CUDA': 'cuda>=9.0', 'OMP_NUM_THREADS': '4', 'HOSTNAME': 'aws', 'AWS_CONTAINER_CREDENTIALS_RELATIVE_URI': '/v2/credentials/98c400a0-3f0a-4c39-8a31-7523cc53338d', 'DMLC_ROLE': 'scheduler', 'PWD': '/', 'DMLC_NUM_SERVER': '1', 'AWS_EXECUTION_ENV': 'AWS_ECS_EC2'}\u001b[0m\n",
      "\u001b[31m[06/16/2019 22:41:20 INFO 139887857596224] Launching parameter server for role server\u001b[0m\n",
      "\u001b[31m[06/16/2019 22:41:20 INFO 139887857596224] {'ECS_CONTAINER_METADATA_URI': 'http://169.254.170.2/v3/33cda801-636c-4a37-b570-8c3666166c72', 'PROTOCOL_BUFFERS_PYTHON_IMPLEMENTATION_VERSION': '2', 'PATH': '/opt/amazon/bin:/usr/local/nvidia/bin:/usr/local/sbin:/usr/local/bin:/usr/sbin:/usr/bin:/sbin:/bin:/opt/amazon/bin:/opt/amazon/bin', 'SAGEMAKER_HTTP_PORT': '8080', 'HOME': '/root', 'PYTHONUNBUFFERED': 'TRUE', 'CANONICAL_ENVROOT': '/opt/amazon', 'LD_LIBRARY_PATH': '/usr/local/nvidia/lib64:/opt/amazon/lib', 'LANG': 'en_US.utf8', 'DMLC_INTERFACE': 'ethwe', 'SHLVL': '1', 'AWS_REGION': 'us-east-1', 'NVIDIA_VISIBLE_DEVICES': 'void', 'TRAINING_JOB_NAME': 'knn-2019-06-16-22-38-45-820', 'PROTOCOL_BUFFERS_PYTHON_IMPLEMENTATION': 'cpp', 'ENVROOT': '/opt/amazon', 'SAGEMAKER_DATA_PATH': '/opt/ml', 'NVIDIA_DRIVER_CAPABILITIES': 'compute,utility', 'NVIDIA_REQUIRE_CUDA': 'cuda>=9.0', 'OMP_NUM_THREADS': '4', 'HOSTNAME': 'aws', 'AWS_CONTAINER_CREDENTIALS_RELATIVE_URI': '/v2/credentials/98c400a0-3f0a-4c39-8a31-7523cc53338d', 'PWD': '/', 'AWS_EXECUTION_ENV': 'AWS_ECS_EC2'}\u001b[0m\n",
      "\u001b[31m[06/16/2019 22:41:20 INFO 139887857596224] envs={'ECS_CONTAINER_METADATA_URI': 'http://169.254.170.2/v3/33cda801-636c-4a37-b570-8c3666166c72', 'PROTOCOL_BUFFERS_PYTHON_IMPLEMENTATION_VERSION': '2', 'DMLC_NUM_WORKER': '1', 'DMLC_PS_ROOT_PORT': '9000', 'PATH': '/opt/amazon/bin:/usr/local/nvidia/bin:/usr/local/sbin:/usr/local/bin:/usr/sbin:/usr/bin:/sbin:/bin:/opt/amazon/bin:/opt/amazon/bin', 'SAGEMAKER_HTTP_PORT': '8080', 'HOME': '/root', 'PYTHONUNBUFFERED': 'TRUE', 'CANONICAL_ENVROOT': '/opt/amazon', 'LD_LIBRARY_PATH': '/usr/local/nvidia/lib64:/opt/amazon/lib', 'LANG': 'en_US.utf8', 'DMLC_INTERFACE': 'ethwe', 'SHLVL': '1', 'DMLC_PS_ROOT_URI': '10.32.0.4', 'AWS_REGION': 'us-east-1', 'NVIDIA_VISIBLE_DEVICES': 'void', 'TRAINING_JOB_NAME': 'knn-2019-06-16-22-38-45-820', 'PROTOCOL_BUFFERS_PYTHON_IMPLEMENTATION': 'cpp', 'ENVROOT': '/opt/amazon', 'SAGEMAKER_DATA_PATH': '/opt/ml', 'NVIDIA_DRIVER_CAPABILITIES': 'compute,utility', 'NVIDIA_REQUIRE_CUDA': 'cuda>=9.0', 'OMP_NUM_THREADS': '4', 'HOSTNAME': 'aws', 'AWS_CONTAINER_CREDENTIALS_RELATIVE_URI': '/v2/credentials/98c400a0-3f0a-4c39-8a31-7523cc53338d', 'DMLC_ROLE': 'server', 'PWD': '/', 'DMLC_NUM_SERVER': '1', 'AWS_EXECUTION_ENV': 'AWS_ECS_EC2'}\u001b[0m\n",
      "\u001b[31m[06/16/2019 22:41:20 INFO 139887857596224] Environment: {'ECS_CONTAINER_METADATA_URI': 'http://169.254.170.2/v3/33cda801-636c-4a37-b570-8c3666166c72', 'PROTOCOL_BUFFERS_PYTHON_IMPLEMENTATION_VERSION': '2', 'DMLC_PS_ROOT_PORT': '9000', 'DMLC_NUM_WORKER': '1', 'SAGEMAKER_HTTP_PORT': '8080', 'PATH': '/opt/amazon/bin:/usr/local/nvidia/bin:/usr/local/sbin:/usr/local/bin:/usr/sbin:/usr/bin:/sbin:/bin:/opt/amazon/bin:/opt/amazon/bin', 'PYTHONUNBUFFERED': 'TRUE', 'CANONICAL_ENVROOT': '/opt/amazon', 'LD_LIBRARY_PATH': '/usr/local/nvidia/lib64:/opt/amazon/lib', 'LANG': 'en_US.utf8', 'DMLC_INTERFACE': 'ethwe', 'SHLVL': '1', 'DMLC_PS_ROOT_URI': '10.32.0.4', 'AWS_REGION': 'us-east-1', 'NVIDIA_VISIBLE_DEVICES': 'void', 'TRAINING_JOB_NAME': 'knn-2019-06-16-22-38-45-820', 'HOME': '/root', 'PROTOCOL_BUFFERS_PYTHON_IMPLEMENTATION': 'cpp', 'ENVROOT': '/opt/amazon', 'SAGEMAKER_DATA_PATH': '/opt/ml', 'NVIDIA_DRIVER_CAPABILITIES': 'compute,utility', 'NVIDIA_REQUIRE_CUDA': 'cuda>=9.0', 'OMP_NUM_THREADS': '4', 'HOSTNAME': 'aws', 'AWS_CONTAINER_CREDENTIALS_RELATIVE_URI': '/v2/credentials/98c400a0-3f0a-4c39-8a31-7523cc53338d', 'DMLC_ROLE': 'worker', 'PWD': '/', 'DMLC_NUM_SERVER': '1', 'AWS_EXECUTION_ENV': 'AWS_ECS_EC2'}\u001b[0m\n",
      "\u001b[31mProcess 40 is a shell:scheduler.\u001b[0m\n",
      "\u001b[31mProcess 41 is a shell:server.\u001b[0m\n",
      "\u001b[31mProcess 1 is a worker.\u001b[0m\n",
      "\u001b[31m[06/16/2019 22:41:20 INFO 139887857596224] Using default worker.\u001b[0m\n",
      "\u001b[31m[2019-06-16 22:41:20.568] [tensorio] [info] batch={\"data_pipeline\": \"/opt/ml/input/data/train\", \"num_examples\": 5000, \"features\": [{\"name\": \"label_values\", \"shape\": [1], \"storage_type\": \"dense\"}, {\"name\": \"values\", \"shape\": [4], \"storage_type\": \"dense\"}]}\u001b[0m\n",
      "\u001b[31m[06/16/2019 22:41:20 INFO 139887857596224] nvidia-smi took: 0.025130033493 secs to identify 0 gpus\u001b[0m\n",
      "\u001b[31m[06/16/2019 22:41:20 INFO 139887857596224] Create Store: dist_async\u001b[0m\n",
      "\u001b[31m[06/16/2019 22:41:21 ERROR 139887857596224] nvidia-smi: failed to run (127): /bin/sh: nvidia-smi: command not found\u001b[0m\n",
      "\u001b[31m[06/16/2019 22:41:21 INFO 139887857596224] Using per-worker sample size = 10000 (Available virtual memory = 31001563136 bytes, GPU free memory = 0 bytes, number of workers = 1). If an out-of-memory error occurs, choose a larger instance type, use dimension reduction, decrease sample_size, and/or decrease mini_batch_size.\u001b[0m\n",
      "\u001b[31m#metrics {\"Metrics\": {\"Max Batches Seen Between Resets\": {\"count\": 1, \"max\": 0, \"sum\": 0.0, \"min\": 0}, \"Number of Batches Since Last Reset\": {\"count\": 1, \"max\": 0, \"sum\": 0.0, \"min\": 0}, \"Number of Records Since Last Reset\": {\"count\": 1, \"max\": 0, \"sum\": 0.0, \"min\": 0}, \"Total Batches Seen\": {\"count\": 1, \"max\": 0, \"sum\": 0.0, \"min\": 0}, \"Total Records Seen\": {\"count\": 1, \"max\": 0, \"sum\": 0.0, \"min\": 0}, \"Max Records Seen Between Resets\": {\"count\": 1, \"max\": 0, \"sum\": 0.0, \"min\": 0}, \"Reset Count\": {\"count\": 1, \"max\": 0, \"sum\": 0.0, \"min\": 0}}, \"EndTime\": 1560724881.450786, \"Dimensions\": {\"Host\": \"algo-1\", \"Meta\": \"init_train_data_iter\", \"Operation\": \"training\", \"Algorithm\": \"AWS/KNN\"}, \"StartTime\": 1560724881.450736}\n",
      "\u001b[0m\n",
      "\u001b[31m[2019-06-16 22:41:21.451] [tensorio] [info] data_pipeline_stats={\"name\": \"/opt/ml/input/data/train\", \"epoch\": 0, \"duration\": 894, \"num_examples\": 1}\u001b[0m\n",
      "\u001b[31m[06/16/2019 22:41:21 INFO 139887857596224] push reservoir to kv... 1 num_workers 0 rank\u001b[0m\n",
      "\u001b[31m[06/16/2019 22:41:21 INFO 139887857596224] ...done (903)\u001b[0m\n",
      "\u001b[31m[06/16/2019 22:41:21 INFO 139887857596224] #progress_metric: host=algo-1, completed 100 % of epochs\u001b[0m\n",
      "\u001b[31m#metrics {\"Metrics\": {\"Max Batches Seen Between Resets\": {\"count\": 1, \"max\": 1, \"sum\": 1.0, \"min\": 1}, \"Number of Batches Since Last Reset\": {\"count\": 1, \"max\": 1, \"sum\": 1.0, \"min\": 1}, \"Number of Records Since Last Reset\": {\"count\": 1, \"max\": 903, \"sum\": 903.0, \"min\": 903}, \"Total Batches Seen\": {\"count\": 1, \"max\": 1, \"sum\": 1.0, \"min\": 1}, \"Total Records Seen\": {\"count\": 1, \"max\": 903, \"sum\": 903.0, \"min\": 903}, \"Max Records Seen Between Resets\": {\"count\": 1, \"max\": 903, \"sum\": 903.0, \"min\": 903}, \"Reset Count\": {\"count\": 1, \"max\": 1, \"sum\": 1.0, \"min\": 1}}, \"EndTime\": 1560724881.468344, \"Dimensions\": {\"Host\": \"algo-1\", \"Meta\": \"training_data_iter\", \"Operation\": \"training\", \"Algorithm\": \"AWS/KNN\", \"epoch\": 0}, \"StartTime\": 1560724881.451074}\n",
      "\u001b[0m\n",
      "\u001b[31m[06/16/2019 22:41:21 INFO 139887857596224] #throughput_metric: host=algo-1, train throughput=51986.2262302 records/second\u001b[0m\n",
      "\u001b[31m[06/16/2019 22:41:21 INFO 139887857596224] pulled row count... worker 0 rows 903\u001b[0m\n",
      "\u001b[31m[06/16/2019 22:41:21 INFO 139887857596224] pulled... worker 0 data (903, 4) labels (903, 1) nans 0\u001b[0m\n",
      "\u001b[31m[06/16/2019 22:41:21 INFO 139887857596224] calling index.train...\u001b[0m\n",
      "\u001b[31m[06/16/2019 22:41:21 INFO 139887857596224] ...done calling index.train\u001b[0m\n",
      "\u001b[31m[06/16/2019 22:41:21 INFO 139887857596224] calling index.add...\u001b[0m\n",
      "\u001b[31m[06/16/2019 22:41:21 INFO 139887857596224] ...done calling index.add\u001b[0m\n",
      "\u001b[31m#metrics {\"Metrics\": {\"epochs\": {\"count\": 1, \"max\": 1, \"sum\": 1.0, \"min\": 1}, \"model.serialize.time\": {\"count\": 1, \"max\": 1.3630390167236328, \"sum\": 1.3630390167236328, \"min\": 1.3630390167236328}, \"finalize.time\": {\"count\": 1, \"max\": 3.0431747436523438, \"sum\": 3.0431747436523438, \"min\": 3.0431747436523438}, \"initialize.time\": {\"count\": 1, \"max\": 872.2250461578369, \"sum\": 872.2250461578369, \"min\": 872.2250461578369}, \"update.time\": {\"count\": 1, \"max\": 17.109155654907227, \"sum\": 17.109155654907227, \"min\": 17.109155654907227}}, \"EndTime\": 1560724881.473003, \"Dimensions\": {\"Host\": \"algo-1\", \"Operation\": \"training\", \"Algorithm\": \"AWS/KNN\"}, \"StartTime\": 1560724880.545275}\n",
      "\u001b[0m\n",
      "\u001b[31m[06/16/2019 22:41:21 INFO 139887857596224] Test data is not provided.\u001b[0m\n",
      "\u001b[31m[2019-06-16 22:41:21.473] [tensorio] [info] data_pipeline_stats={\"name\": \"/opt/ml/input/data/train\", \"epoch\": 1, \"duration\": 22, \"num_examples\": 1}\u001b[0m\n",
      "\u001b[31m[2019-06-16 22:41:21.473] [tensorio] [info] data_pipeline_stats={\"name\": \"/opt/ml/input/data/train\", \"duration\": 916, \"num_epochs\": 2, \"num_examples\": 2}\u001b[0m\n",
      "\u001b[31m#metrics {\"Metrics\": {\"totaltime\": {\"count\": 1, \"max\": 1143.8360214233398, \"sum\": 1143.8360214233398, \"min\": 1143.8360214233398}, \"setuptime\": {\"count\": 1, \"max\": 20.852088928222656, \"sum\": 20.852088928222656, \"min\": 20.852088928222656}}, \"EndTime\": 1560724881.473758, \"Dimensions\": {\"Host\": \"algo-1\", \"Operation\": \"training\", \"Algorithm\": \"AWS/KNN\"}, \"StartTime\": 1560724881.473061}\n",
      "\u001b[0m\n",
      "\n",
      "2019-06-16 22:41:29 Uploading - Uploading generated training model\n",
      "2019-06-16 22:41:29 Completed - Training job completed\n",
      "Billable seconds: 51\n"
     ]
    }
   ],
   "source": [
    "knn_estimator.fit([\n",
    "    knn_estimator.record_set(df.values, df_target.values, channel='train')\n",
    "])"
   ]
  },
  {
   "cell_type": "code",
   "execution_count": 17,
   "metadata": {},
   "outputs": [
    {
     "name": "stdout",
     "output_type": "stream",
     "text": [
      "---------------------------------------------------------------------------------------------------------------------------!"
     ]
    }
   ],
   "source": [
    "# set up an endpoint\n",
    "knn_predictor = knn_estimator.deploy(initial_instance_count=1, instance_type='ml.t2.medium')"
   ]
  },
  {
   "cell_type": "code",
   "execution_count": 51,
   "metadata": {},
   "outputs": [],
   "source": [
    "# add serializers and deserializers as needed for the application\n",
    "from sagemaker.predictor import csv_serializer, json_deserializer\n",
    "\n",
    "knn_predictor.content_type = 'text/csv'\n",
    "knn_predictor.serializer = csv_serializer\n",
    "knn_predictor.deserializer = json_deserializer\n",
    "# use the verbose API to get the actual neighbors\n",
    "knn_predictor.accept = 'application/json; verbose=true'"
   ]
  },
  {
   "cell_type": "code",
   "execution_count": 78,
   "metadata": {},
   "outputs": [],
   "source": [
    "result = knn_predictor.predict([2, 1, 0, 1])"
   ]
  },
  {
   "cell_type": "code",
   "execution_count": 79,
   "metadata": {},
   "outputs": [],
   "source": [
    "response = []\n",
    "for r in result['predictions']:\n",
    "    response.append(r['predicted_label'])"
   ]
  },
  {
   "cell_type": "code",
   "execution_count": 80,
   "metadata": {},
   "outputs": [
    {
     "data": {
      "text/plain": [
       "[1.0]"
      ]
     },
     "execution_count": 80,
     "metadata": {},
     "output_type": "execute_result"
    }
   ],
   "source": [
    "response"
   ]
  },
  {
   "cell_type": "code",
   "execution_count": null,
   "metadata": {},
   "outputs": [],
   "source": []
  },
  {
   "cell_type": "code",
   "execution_count": null,
   "metadata": {},
   "outputs": [],
   "source": []
  }
 ],
 "metadata": {
  "kernelspec": {
   "display_name": "conda_python3",
   "language": "python",
   "name": "conda_python3"
  },
  "language_info": {
   "codemirror_mode": {
    "name": "ipython",
    "version": 3
   },
   "file_extension": ".py",
   "mimetype": "text/x-python",
   "name": "python",
   "nbconvert_exporter": "python",
   "pygments_lexer": "ipython3",
   "version": "3.6.5"
  }
 },
 "nbformat": 4,
 "nbformat_minor": 2
}
