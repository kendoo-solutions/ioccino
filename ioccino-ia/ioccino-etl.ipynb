{
 "cells": [
  {
   "cell_type": "code",
   "execution_count": 1,
   "metadata": {},
   "outputs": [],
   "source": [
    "import sys\n",
    "import s3fs\n",
    "import boto3\n",
    "import numpy as np\n",
    "import pandas as pd\n",
    "from datetime import datetime\n",
    "from sklearn import preprocessing\n",
    "\n",
    "INT_MAX = (2**32) - 1\n",
    "le = preprocessing.LabelEncoder()\n",
    "s3 = boto3.client('s3')\n",
    "BUCKET = 'ioccino-data'"
   ]
  },
  {
   "cell_type": "code",
   "execution_count": 2,
   "metadata": {},
   "outputs": [],
   "source": [
    "def df_to_s3(df):\n",
    "    bytes_to_write = df.to_csv(None).encode()\n",
    "    fs = s3fs.S3FileSystem()\n",
    "    with fs.open('s3://' + BUCKET + '/data/coffee-flavors-'+ get_str_date() +'.csv', 'wb') as f:\n",
    "        f.write(bytes_to_write)"
   ]
  },
  {
   "cell_type": "code",
   "execution_count": 3,
   "metadata": {},
   "outputs": [],
   "source": [
    "def normalize_df(df):\n",
    "    for c in df.columns.values:\n",
    "        if c != 'target' and c != 'gender':\n",
    "            x_array = np.array(df[c])\n",
    "            df[c] = preprocessing.normalize([x_array])[0]\n",
    "    return df"
   ]
  },
  {
   "cell_type": "code",
   "execution_count": 4,
   "metadata": {},
   "outputs": [],
   "source": [
    "def get_str_date():\n",
    "    return str(datetime.now()).replace(' ', '_')"
   ]
  },
  {
   "cell_type": "code",
   "execution_count": 5,
   "metadata": {},
   "outputs": [],
   "source": [
    "def str_label_into_numbers(df):\n",
    "    # Converting string labels into numbers.\n",
    "    df['gender'] = le.fit_transform(df['gender'])\n",
    "    df['state'] = le.fit_transform(df['state'])\n",
    "    df['temperature'] = le.fit_transform(df['temperature'])\n",
    "    df['feel'] = le.fit_transform(df['feel'])\n",
    "    df['target'] = le.fit_transform(df['target'])\n",
    "    return df"
   ]
  },
  {
   "cell_type": "code",
   "execution_count": 16,
   "metadata": {},
   "outputs": [],
   "source": [
    "def main():\n",
    "    try:\n",
    "        df = pd.read_csv('s3://' + BUCKET + '/raw-data/coffee-flavors.csv')\n",
    "        df.columns = ['timestamp', 'age', 'gender', 'state', 'temperature', 'feel', 'target']\n",
    "        df['timestamp'] = pd.to_datetime(df['timestamp']).astype('int64') // 10**9\n",
    "        \n",
    "        df['target'] = df['target'].apply(lambda x: x.split(' ')[0]).copy()\n",
    "        df = df[df.target != 'Não']\n",
    "        df = df[df.target != 'AMENO']\n",
    "        \n",
    "        df = str_label_into_numbers(df)\n",
    "        df = normalize_df(df)\n",
    "        df_to_s3(df)\n",
    "        ret = df\n",
    "    except Exception as e:\n",
    "        print('erro:', e)\n",
    "        ret = None\n",
    "    return ret"
   ]
  },
  {
   "cell_type": "code",
   "execution_count": 17,
   "metadata": {},
   "outputs": [],
   "source": [
    "df = main()"
   ]
  },
  {
   "cell_type": "code",
   "execution_count": 18,
   "metadata": {},
   "outputs": [
    {
     "data": {
      "text/plain": [
       "<matplotlib.axes._subplots.AxesSubplot at 0x7faaf469b470>"
      ]
     },
     "execution_count": 18,
     "metadata": {},
     "output_type": "execute_result"
    },
    {
     "data": {
      "image/png": "[encoded data removed]",
      "text/plain": [
       "<Figure size 432x288 with 1 Axes>"
      ]
     },
     "metadata": {},
     "output_type": "display_data"
    }
   ],
   "source": [
    "df.groupby(['target']).count().plot(kind='bar')"
   ]
  },
  {
   "cell_type": "code",
   "execution_count": null,
   "metadata": {},
   "outputs": [],
   "source": []
  }
 ],
 "metadata": {
  "kernelspec": {
   "display_name": "conda_python3",
   "language": "python",
   "name": "conda_python3"
  },
  "language_info": {
   "codemirror_mode": {
    "name": "ipython",
    "version": 3
   },
   "file_extension": ".py",
   "mimetype": "text/x-python",
   "name": "python",
   "nbconvert_exporter": "python",
   "pygments_lexer": "ipython3",
   "version": "3.6.5"
  }
 },
 "nbformat": 4,
 "nbformat_minor": 2
}
